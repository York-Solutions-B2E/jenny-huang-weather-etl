{
 "cells": [
  {
   "cell_type": "markdown",
   "metadata": {},
   "source": [
    "* This file is for the downloading and extraction of all data files from 1950 - 2000 from the NOAA database.\n",
    "* All non-contiguous-USA datafiles are ignored\n"
   ]
  },
  {
   "cell_type": "code",
   "execution_count": 1,
   "metadata": {},
   "outputs": [],
   "source": [
    "import requests\n",
    "import gzip\n",
    "import tarfile\n",
    "import os\n",
    "import numpy as np\n",
    "import pandas as pd\n",
    "from pyquery import PyQuery as pq\n",
    "from urllib import request as urlreq\n"
   ]
  },
  {
   "cell_type": "code",
   "execution_count": 11,
   "metadata": {},
   "outputs": [],
   "source": [
    "endpt = 'https://www.ncei.noaa.gov/data/global-summary-of-the-day/archive/'\n",
    "req = requests.get(endpt)\n",
    "html = pq(req.text)     #turn page into html for parsing using pyquery\n",
    "html_lst = list(html.items('a'))[5:]       #only get the links to the .gz files, ignore header etc\n",
    "\n",
    "os.mkdir(\"./temp\")  #make temp storage directory for csvs\n",
    "os.mkdir(\"./raw_data\")      #make directory to store yearly extracted data\n",
    "#append links to list\n",
    "links = []\n",
    "for l in html_lst:\n",
    "    links.append(str(l).split('\"')[1])\n",
    "\n",
    "#only get 1950 - 2000\n",
    "links = links[links.index('1950.tar.gz'): links.index('2000.tar.gz')+1]\n"
   ]
  },
  {
   "cell_type": "code",
   "execution_count": 12,
   "metadata": {},
   "outputs": [
    {
     "ename": "KeyboardInterrupt",
     "evalue": "",
     "output_type": "error",
     "traceback": [
      "\u001b[0;31m---------------------------------------------------------------------------\u001b[0m",
      "\u001b[0;31mKeyboardInterrupt\u001b[0m                         Traceback (most recent call last)",
      "\u001b[1;32m/Users/yorkmacbook020/Documents/york/jenny-huang/week5/individual_etl/data_extraction.ipynb Cell 4\u001b[0m line \u001b[0;36m7\n\u001b[1;32m      <a href='vscode-notebook-cell:/Users/yorkmacbook020/Documents/york/jenny-huang/week5/individual_etl/data_extraction.ipynb#W3sZmlsZQ%3D%3D?line=4'>5</a>\u001b[0m response \u001b[39m=\u001b[39m requests\u001b[39m.\u001b[39mget(temp_end, stream\u001b[39m=\u001b[39m\u001b[39mTrue\u001b[39;00m)\n\u001b[1;32m      <a href='vscode-notebook-cell:/Users/yorkmacbook020/Documents/york/jenny-huang/week5/individual_etl/data_extraction.ipynb#W3sZmlsZQ%3D%3D?line=5'>6</a>\u001b[0m file \u001b[39m=\u001b[39m tarfile\u001b[39m.\u001b[39mopen(fileobj\u001b[39m=\u001b[39mresponse\u001b[39m.\u001b[39mraw, mode\u001b[39m=\u001b[39m\u001b[39m\"\u001b[39m\u001b[39mr|gz\u001b[39m\u001b[39m\"\u001b[39m)\n\u001b[0;32m----> <a href='vscode-notebook-cell:/Users/yorkmacbook020/Documents/york/jenny-huang/week5/individual_etl/data_extraction.ipynb#W3sZmlsZQ%3D%3D?line=6'>7</a>\u001b[0m file\u001b[39m.\u001b[39;49mextractall(path \u001b[39m=\u001b[39;49m \u001b[39m\"\u001b[39;49m\u001b[39m./temp\u001b[39;49m\u001b[39m\"\u001b[39;49m)\n\u001b[1;32m      <a href='vscode-notebook-cell:/Users/yorkmacbook020/Documents/york/jenny-huang/week5/individual_etl/data_extraction.ipynb#W3sZmlsZQ%3D%3D?line=8'>9</a>\u001b[0m \u001b[39m#move data from each csv  to dataframe then delete csv\u001b[39;00m\n\u001b[1;32m     <a href='vscode-notebook-cell:/Users/yorkmacbook020/Documents/york/jenny-huang/week5/individual_etl/data_extraction.ipynb#W3sZmlsZQ%3D%3D?line=9'>10</a>\u001b[0m df \u001b[39m=\u001b[39m pd\u001b[39m.\u001b[39mDataFrame()\n",
      "File \u001b[0;32m/Library/Frameworks/Python.framework/Versions/3.12/lib/python3.12/tarfile.py:2268\u001b[0m, in \u001b[0;36mTarFile.extractall\u001b[0;34m(self, path, members, numeric_owner, filter)\u001b[0m\n\u001b[1;32m   2263\u001b[0m     \u001b[39mif\u001b[39;00m tarinfo\u001b[39m.\u001b[39misdir():\n\u001b[1;32m   2264\u001b[0m         \u001b[39m# For directories, delay setting attributes until later,\u001b[39;00m\n\u001b[1;32m   2265\u001b[0m         \u001b[39m# since permissions can interfere with extraction and\u001b[39;00m\n\u001b[1;32m   2266\u001b[0m         \u001b[39m# extracting contents can reset mtime.\u001b[39;00m\n\u001b[1;32m   2267\u001b[0m         directories\u001b[39m.\u001b[39mappend(tarinfo)\n\u001b[0;32m-> 2268\u001b[0m     \u001b[39mself\u001b[39;49m\u001b[39m.\u001b[39;49m_extract_one(tarinfo, path, set_attrs\u001b[39m=\u001b[39;49m\u001b[39mnot\u001b[39;49;00m tarinfo\u001b[39m.\u001b[39;49misdir(),\n\u001b[1;32m   2269\u001b[0m                       numeric_owner\u001b[39m=\u001b[39;49mnumeric_owner)\n\u001b[1;32m   2271\u001b[0m \u001b[39m# Reverse sort directories.\u001b[39;00m\n\u001b[1;32m   2272\u001b[0m directories\u001b[39m.\u001b[39msort(key\u001b[39m=\u001b[39m\u001b[39mlambda\u001b[39;00m a: a\u001b[39m.\u001b[39mname, reverse\u001b[39m=\u001b[39m\u001b[39mTrue\u001b[39;00m)\n",
      "File \u001b[0;32m/Library/Frameworks/Python.framework/Versions/3.12/lib/python3.12/tarfile.py:2331\u001b[0m, in \u001b[0;36mTarFile._extract_one\u001b[0;34m(self, tarinfo, path, set_attrs, numeric_owner)\u001b[0m\n\u001b[1;32m   2328\u001b[0m \u001b[39mself\u001b[39m\u001b[39m.\u001b[39m_check(\u001b[39m\"\u001b[39m\u001b[39mr\u001b[39m\u001b[39m\"\u001b[39m)\n\u001b[1;32m   2330\u001b[0m \u001b[39mtry\u001b[39;00m:\n\u001b[0;32m-> 2331\u001b[0m     \u001b[39mself\u001b[39;49m\u001b[39m.\u001b[39;49m_extract_member(tarinfo, os\u001b[39m.\u001b[39;49mpath\u001b[39m.\u001b[39;49mjoin(path, tarinfo\u001b[39m.\u001b[39;49mname),\n\u001b[1;32m   2332\u001b[0m                          set_attrs\u001b[39m=\u001b[39;49mset_attrs,\n\u001b[1;32m   2333\u001b[0m                          numeric_owner\u001b[39m=\u001b[39;49mnumeric_owner)\n\u001b[1;32m   2334\u001b[0m \u001b[39mexcept\u001b[39;00m \u001b[39mOSError\u001b[39;00m \u001b[39mas\u001b[39;00m e:\n\u001b[1;32m   2335\u001b[0m     \u001b[39mself\u001b[39m\u001b[39m.\u001b[39m_handle_fatal_error(e)\n",
      "File \u001b[0;32m/Library/Frameworks/Python.framework/Versions/3.12/lib/python3.12/tarfile.py:2414\u001b[0m, in \u001b[0;36mTarFile._extract_member\u001b[0;34m(self, tarinfo, targetpath, set_attrs, numeric_owner)\u001b[0m\n\u001b[1;32m   2411\u001b[0m     \u001b[39mself\u001b[39m\u001b[39m.\u001b[39m_dbg(\u001b[39m1\u001b[39m, tarinfo\u001b[39m.\u001b[39mname)\n\u001b[1;32m   2413\u001b[0m \u001b[39mif\u001b[39;00m tarinfo\u001b[39m.\u001b[39misreg():\n\u001b[0;32m-> 2414\u001b[0m     \u001b[39mself\u001b[39;49m\u001b[39m.\u001b[39;49mmakefile(tarinfo, targetpath)\n\u001b[1;32m   2415\u001b[0m \u001b[39melif\u001b[39;00m tarinfo\u001b[39m.\u001b[39misdir():\n\u001b[1;32m   2416\u001b[0m     \u001b[39mself\u001b[39m\u001b[39m.\u001b[39mmakedir(tarinfo, targetpath)\n",
      "File \u001b[0;32m/Library/Frameworks/Python.framework/Versions/3.12/lib/python3.12/tarfile.py:2467\u001b[0m, in \u001b[0;36mTarFile.makefile\u001b[0;34m(self, tarinfo, targetpath)\u001b[0m\n\u001b[1;32m   2465\u001b[0m     target\u001b[39m.\u001b[39mtruncate()\n\u001b[1;32m   2466\u001b[0m \u001b[39melse\u001b[39;00m:\n\u001b[0;32m-> 2467\u001b[0m     copyfileobj(source, target, tarinfo\u001b[39m.\u001b[39;49msize, ReadError, bufsize)\n",
      "File \u001b[0;32m/Library/Frameworks/Python.framework/Versions/3.12/lib/python3.12/tarfile.py:254\u001b[0m, in \u001b[0;36mcopyfileobj\u001b[0;34m(src, dst, length, exception, bufsize)\u001b[0m\n\u001b[1;32m    252\u001b[0m     \u001b[39mif\u001b[39;00m \u001b[39mlen\u001b[39m(buf) \u001b[39m<\u001b[39m bufsize:\n\u001b[1;32m    253\u001b[0m         \u001b[39mraise\u001b[39;00m exception(\u001b[39m\"\u001b[39m\u001b[39munexpected end of data\u001b[39m\u001b[39m\"\u001b[39m)\n\u001b[0;32m--> 254\u001b[0m     dst\u001b[39m.\u001b[39;49mwrite(buf)\n\u001b[1;32m    256\u001b[0m \u001b[39mif\u001b[39;00m remainder \u001b[39m!=\u001b[39m \u001b[39m0\u001b[39m:\n\u001b[1;32m    257\u001b[0m     buf \u001b[39m=\u001b[39m src\u001b[39m.\u001b[39mread(remainder)\n",
      "\u001b[0;31mKeyboardInterrupt\u001b[0m: "
     ]
    }
   ],
   "source": [
    "#PARSE ALL DATA IN LINKS \n",
    "for l in links:\n",
    "    #open gzip to temp dir\n",
    "    temp_end = f\"{endpt}{l}\"\n",
    "    response = requests.get(temp_end, stream=True)\n",
    "    file = tarfile.open(fileobj=response.raw, mode=\"r|gz\")\n",
    "    file.extractall(path = \"./temp\")\n",
    "\n",
    "    #move data from each csv  to dataframe then delete csv\n",
    "    df = pd.DataFrame()\n",
    "    for filename in os.listdir(\"./temp\"):\n",
    "        # if not (filename[0] == \"7\" or filename[:2] == \"69\"):\n",
    "        #     os.remove(f\"./temp/{filename}\")\n",
    "        #     continue\n",
    "        temp = pd.read_csv(f\"./temp/{filename}\")\n",
    "        if temp[\"LATITUDE\"].isnull().any() or temp[\"LONGITUDE\"].isnull().any():\n",
    "            os.remove(f\"./temp/{filename}\")\n",
    "            continue\n",
    "        (lat, long) = (float(temp[\"LATITUDE\"][0]), float(temp[\"LONGITUDE\"][0]))  #get location info\n",
    "        if lat > 49.4 or lat < 24.4 or long < -125 or long > -66.9: #rough estimate of US location -- rough filter \n",
    "            os.remove(f\"./temp/{filename}\")\n",
    "            continue\n",
    "        #edge cases -- check station name\n",
    "        if temp[\"NAME\"][0][-2:] != \"US\":\n",
    "            os.remove(f\"./temp/{filename}\")\n",
    "            continue\n",
    "        df = pd.concat([df, temp])\n",
    "        os.remove(f\"./temp/{filename}\")\n",
    "\n",
    "    #parse date and filter data\n",
    "    df[\"DATE\"] = pd.to_datetime(df[\"DATE\"])\n",
    "    df[\"MONTH\"] = df[\"DATE\"].dt.month\n",
    "    df[\"YEAR\"] = df[\"DATE\"].dt.year\n",
    "    df = df[[\"NAME\", \"DATE\", \"YEAR\", \"MONTH\", \"TEMP\", \"DEWP\", \"MIN\", \"MAX\", \"PRCP\", \"SNDP\"]]\n",
    "    \n",
    "    #export raw data as csv\n",
    "    df.to_csv(f\"./raw_data/{l[:4]}_raw.csv\")\n"
   ]
  }
 ],
 "metadata": {
  "kernelspec": {
   "display_name": "Python 3",
   "language": "python",
   "name": "python3"
  },
  "language_info": {
   "codemirror_mode": {
    "name": "ipython",
    "version": 3
   },
   "file_extension": ".py",
   "mimetype": "text/x-python",
   "name": "python",
   "nbconvert_exporter": "python",
   "pygments_lexer": "ipython3",
   "version": "3.12.0"
  }
 },
 "nbformat": 4,
 "nbformat_minor": 2
}
