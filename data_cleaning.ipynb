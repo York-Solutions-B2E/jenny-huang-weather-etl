{
 "cells": [
  {
   "cell_type": "markdown",
   "metadata": {},
   "source": [
    "* This file is for cleaning and analyzing extracted data into monthly summaries \n",
    "* Then exporting to a master csv "
   ]
  },
  {
   "cell_type": "code",
   "execution_count": 7,
   "metadata": {},
   "outputs": [],
   "source": [
    "import numpy as np\n",
    "import pandas as pd\n",
    "import csv\n",
    "import os\n",
    "import datetime"
   ]
  },
  {
   "cell_type": "code",
   "execution_count": 22,
   "metadata": {},
   "outputs": [
    {
     "name": "stdout",
     "output_type": "stream",
     "text": [
      "1950_raw.csv\n",
      "1951_raw.csv\n",
      "1952_raw.csv\n",
      "1953_raw.csv\n",
      "1954_raw.csv\n",
      "1955_raw.csv\n",
      "1956_raw.csv\n",
      "1957_raw.csv\n",
      "1958_raw.csv\n",
      "1959_raw.csv\n",
      "1960_raw.csv\n",
      "1961_raw.csv\n",
      "1962_raw.csv\n",
      "1963_raw.csv\n",
      "1964_raw.csv\n",
      "1965_raw.csv\n",
      "1966_raw.csv\n",
      "1967_raw.csv\n",
      "1968_raw.csv\n",
      "1969_raw.csv\n",
      "1970_raw.csv\n",
      "1971_raw.csv\n",
      "1972_raw.csv\n",
      "1973_raw.csv\n",
      "1974_raw.csv\n",
      "1975_raw.csv\n",
      "1976_raw.csv\n",
      "1977_raw.csv\n",
      "1978_raw.csv\n",
      "1979_raw.csv\n",
      "1980_raw.csv\n",
      "1981_raw.csv\n",
      "1982_raw.csv\n",
      "1983_raw.csv\n",
      "1984_raw.csv\n",
      "1985_raw.csv\n",
      "1986_raw.csv\n",
      "1987_raw.csv\n",
      "1988_raw.csv\n",
      "1989_raw.csv\n",
      "1990_raw.csv\n",
      "1991_raw.csv\n",
      "1992_raw.csv\n",
      "1993_raw.csv\n",
      "1994_raw.csv\n",
      "1995_raw.csv\n",
      "1996_raw.csv\n",
      "1997_raw.csv\n",
      "1998_raw.csv\n",
      "1999_raw.csv\n",
      "2000_raw.csv\n"
     ]
    }
   ],
   "source": [
    "for filename in sorted(os.listdir(\"./raw_data\")):\n",
    "    df = pd.read_csv(f\"./raw_data/{filename}\")\n",
    "    print(filename)\n",
    "    #replace placeholder values with zero \n",
    "    df[\"MIN\"] = df[\"MIN\"].replace(9999.9, 0)\n",
    "    df[\"MAX\"] = df[\"MAX\"].replace(9999.9, 0)\n",
    "    grouped = df.copy().groupby(\"MONTH\").agg({'PRCP' : ['mean', 'median', 'min', 'max'],\n",
    "                                    'TEMP' : ['mean', 'median'],\n",
    "                                    'MIN' : ['min'],\n",
    "                                    'MAX' : [\"max\"],\n",
    "                                    })\n",
    "\n",
    "    #calculate variance\n",
    "    var = df[[\"MONTH\", \"TEMP\", \"PRCP\"]].groupby(\"MONTH\").var()\n",
    "    grouped[\"TEMP_var\"] = var[\"TEMP\"]\n",
    "    grouped[\"PRCP_var\"] = var[\"PRCP\"]\n",
    "\n",
    "    #flatten \n",
    "    grouped.columns = [f'{col[0]}_{col[1]}' for col in grouped.columns]\n",
    "    grouped = grouped.reset_index()\n",
    "\n",
    "    #reorder and rename columns \n",
    "    grouped[\"YEAR\"] = int(filename[:4])\n",
    "    grouped = grouped.rename({\"MIN_min\" : \"TEMP_min\", \"MAX_max\" : \"TEMP_max\", \"TEMP_var_\" : \"TEMP_var\", \"PRCP_var_\" : \"PRCP_var\"}, axis = 'columns')\n",
    "    grouped = grouped[[\"MONTH\", \"YEAR\", \"TEMP_mean\", \"TEMP_median\", \"TEMP_min\", \"TEMP_max\", \"TEMP_var\", \"PRCP_mean\", \"PRCP_median\", \"PRCP_min\", \"PRCP_max\", \"PRCP_var\"]]\n",
    "    if int(filename[:4]) == 1950:\n",
    "        grouped.to_csv('monthly_weather_stats.csv', mode='a', index=False, header=True)     #write to CSV with header if it's the first file\n",
    "    else:\n",
    "        grouped.to_csv('monthly_weather_stats.csv', mode='a', index=False, header=False)"
   ]
  },
  {
   "cell_type": "code",
   "execution_count": 15,
   "metadata": {},
   "outputs": [],
   "source": []
  }
 ],
 "metadata": {
  "kernelspec": {
   "display_name": "Python 3",
   "language": "python",
   "name": "python3"
  },
  "language_info": {
   "codemirror_mode": {
    "name": "ipython",
    "version": 3
   },
   "file_extension": ".py",
   "mimetype": "text/x-python",
   "name": "python",
   "nbconvert_exporter": "python",
   "pygments_lexer": "ipython3",
   "version": "3.12.0"
  }
 },
 "nbformat": 4,
 "nbformat_minor": 2
}
