{
 "cells": [
  {
   "cell_type": "markdown",
   "metadata": {},
   "source": [
    "* This file is for cleaning and analyzing extracted data into monthly summaries \n",
    "* Then exporting to a master csv "
   ]
  },
  {
   "cell_type": "code",
   "execution_count": 2,
   "metadata": {},
   "outputs": [],
   "source": [
    "import numpy as np\n",
    "import pandas as pd\n",
    "import csv\n",
    "import os\n",
    "import datetime"
   ]
  },
  {
   "cell_type": "code",
   "execution_count": 3,
   "metadata": {},
   "outputs": [],
   "source": [
    "for filename in sorted(os.listdir(\"./raw_data\")):\n",
    "    df = pd.read_csv(f\"./raw_data/{filename}\")\n",
    "    \n",
    "    #for each variable, create a temp dataset removing null values\n",
    "    final = pd.DataFrame()\n",
    "    #for temp\n",
    "    df_temp = df[df[\"TEMP\"] != 9999.9]\n",
    "    grouped = df_temp.copy().groupby(\"MONTH\").agg({'TEMP' : ['mean', 'median']})\n",
    "    grouped.columns = [f'{col[0]}_{col[1]}' for col in grouped.columns]\n",
    "    grouped = grouped.reset_index()\n",
    "    final[\"MONTH\"] = grouped[\"MONTH\"]\n",
    "    final[\"YEAR\"] = filename[:4]\n",
    "    final[[\"TEMP_mean\", \"TEMP_median\"]] = grouped[[\"TEMP_mean\", \"TEMP_median\"]]\n",
    "    final[\"TEMP_var\"] = df_temp.groupby(\"MONTH\")[\"TEMP\"].var().reset_index(drop = True)\n",
    "    #min temp\n",
    "    df_temp = df[df[\"MIN\"] != 9999.9]\n",
    "    grouped = df_temp.copy().groupby(\"MONTH\").agg({'MIN' : ['min']})\n",
    "    grouped.columns = [f'{col[0]}_{col[1]}' for col in grouped.columns]\n",
    "    grouped = grouped.reset_index()\n",
    "    final[\"TEMP_min\"] = grouped[\"MIN_min\"]\n",
    "    #max temp\n",
    "    df_temp = df[df[\"MAX\"] != 9999.9]\n",
    "    grouped = df_temp.copy().groupby(\"MONTH\").agg({'MAX' : ['max']})\n",
    "    grouped.columns = [f'{col[0]}_{col[1]}' for col in grouped.columns]\n",
    "    grouped = grouped.reset_index()\n",
    "    final[\"TEMP_max\"] = grouped[\"MAX_max\"]\n",
    "    #precip\n",
    "    df_temp = df[df[\"PRCP\"] != 99.99]\n",
    "    grouped = df_temp.copy().groupby(\"MONTH\").agg({'PRCP' : ['mean', 'median', 'min', 'max']})\n",
    "    grouped.columns = [f'{col[0]}_{col[1]}' for col in grouped.columns]\n",
    "    grouped = grouped.reset_index()\n",
    "    final[[\"PRCP_mean\", \"PRCP_median\", \"PRCP_min\", \"PRCP_max\"]] = grouped[[\"PRCP_mean\", \"PRCP_median\", \"PRCP_min\", \"PRCP_max\"]]\n",
    "    final[\"PRCP_var\"] = df_temp.groupby(\"MONTH\")[\"PRCP\"].var().reset_index(drop = True)\n",
    "        \n",
    "    if int(filename[:4]) == 1950:\n",
    "        final.to_csv('monthly_weather_stats.csv', mode='w', index=False, header=True)     #write to CSV with header if it's the first file\n",
    "    else:\n",
    "        final.to_csv('monthly_weather_stats.csv', mode='a', index=False, header=False)"
   ]
  }
 ],
 "metadata": {
  "kernelspec": {
   "display_name": "Python 3",
   "language": "python",
   "name": "python3"
  },
  "language_info": {
   "codemirror_mode": {
    "name": "ipython",
    "version": 3
   },
   "file_extension": ".py",
   "mimetype": "text/x-python",
   "name": "python",
   "nbconvert_exporter": "python",
   "pygments_lexer": "ipython3",
   "version": "3.12.0"
  }
 },
 "nbformat": 4,
 "nbformat_minor": 2
}
