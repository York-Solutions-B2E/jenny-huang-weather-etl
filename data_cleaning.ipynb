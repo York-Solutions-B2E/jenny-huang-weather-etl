{
 "cells": [
  {
   "cell_type": "markdown",
   "metadata": {},
   "source": [
    "* This file is for cleaning and analyzing extracted data into monthly summaries \n",
    "* Then exporting to a master csv "
   ]
  },
  {
   "cell_type": "code",
   "execution_count": 7,
   "metadata": {},
   "outputs": [],
   "source": [
    "import numpy as np\n",
    "import pandas as pd\n",
    "import csv\n",
    "import os\n",
    "import datetime"
   ]
  },
  {
   "cell_type": "code",
   "execution_count": null,
   "metadata": {},
   "outputs": [],
   "source": [
    "for filename in sorted(os.listdir(\"./raw_data\")):\n",
    "    df = pd.read_csv(f\"./raw_data/{filename}\")\n",
    "    #replace placeholder values with zero \n",
    "    df[\"MIN\"] = df[\"MIN\"].replace(9999.9, 0)\n",
    "    df[\"MAX\"] = df[\"MAX\"].replace(9999.9, 0)\n",
    "    grouped = df.copy().groupby(\"MONTH\").agg({'PRCP' : ['mean', 'median', 'min', 'max'],\n",
    "                                    'TEMP' : ['mean', 'median'],\n",
    "                                    'MIN' : ['min'],\n",
    "                                    'MAX' : [\"max\"],\n",
    "                                    })\n",
    "\n",
    "    #calculate variance\n",
    "    var = df[[\"MONTH\", \"TEMP\", \"PRCP\"]].groupby(\"MONTH\").var()\n",
    "    grouped[\"TEMP_var\"] = var[\"TEMP\"]\n",
    "    grouped[\"PRCP_var\"] = var[\"PRCP\"]\n",
    "\n",
    "    #flatten \n",
    "    grouped.columns = [f'{col[0]}_{col[1]}' for col in grouped.columns]\n",
    "    grouped = grouped.reset_index()\n",
    "\n",
    "    #reorder and rename columns \n",
    "    grouped[\"YEAR\"] = int(filename[:4])\n",
    "    grouped = grouped.rename({\"MIN_min\" : \"TEMP_min\", \"MAX_max\" : \"TEMP_max\", \"TEMP_var_\" : \"TEMP_var\", \"PRCP_var_\" : \"PRCP_var\"}, axis = 'columns')\n",
    "    grouped = grouped[[\"MONTH\", \"YEAR\", \"TEMP_mean\", \"TEMP_median\", \"TEMP_min\", \"TEMP_max\", \"TEMP_var\", \"PRCP_mean\", \"PRCP_median\", \"PRCP_min\", \"PRCP_max\", \"PRCP_var\"]]\n",
    "    if int(filename[:4]) == 1950:\n",
    "        grouped.to_csv('monthly_weather_stats.csv', mode='a', index=False, header=True)     #write to CSV with header if it's the first file\n",
    "    else:\n",
    "        grouped.to_csv('monthly_weather_stats.csv', mode='a', index=False, header=False)"
   ]
  }
 ],
 "metadata": {
  "kernelspec": {
   "display_name": "Python 3",
   "language": "python",
   "name": "python3"
  },
  "language_info": {
   "codemirror_mode": {
    "name": "ipython",
    "version": 3
   },
   "file_extension": ".py",
   "mimetype": "text/x-python",
   "name": "python",
   "nbconvert_exporter": "python",
   "pygments_lexer": "ipython3",
   "version": "3.12.0"
  }
 },
 "nbformat": 4,
 "nbformat_minor": 2
}
